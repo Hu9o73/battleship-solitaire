{
 "cells": [
  {
   "cell_type": "markdown",
   "metadata": {},
   "source": [
    "# Hugo's Battleship Solitaire\n",
    "\n",
    "Welcome to the main file of Hugo's Battleship Solitaire ! It relies on other .py files so make sure all files are in the same directory, and that the necessary libraries are installed in your Python Environment."
   ]
  },
  {
   "cell_type": "code",
   "execution_count": 6,
   "metadata": {},
   "outputs": [
    {
     "name": "stdout",
     "output_type": "stream",
     "text": [
      "  4 0 1 3 1 1 \n",
      "2 . . . . M M \n",
      "2 M . . M . . \n",
      "1 . . . M . . \n",
      "2 M . . M . . \n",
      "1 M . . . . . \n",
      "2 M . M . . . \n"
     ]
    }
   ],
   "source": [
    "from CSPRequirements import *\n",
    "\n",
    "file_path = 'Inputs/testInput.txt'\n",
    "bsp = BattleShipProblem(\"My Battleship Problem\", file_path)\n",
    "\n",
    "# Get targets\n",
    "horizontal = bsp.horizontal\n",
    "vertical = bsp.vertical\n",
    "\n",
    "# Solve the problem\n",
    "solution = bsp.solve(\"backtracking\")\n",
    "\n",
    "# Build the finl grid\n",
    "solutionGrid = solutionGridBuilder(solution)\n",
    "\n",
    "# \"Plot\" the final grid\n",
    "print(\"\", end=\"  \")\n",
    "for val in vertical:\n",
    "    print(val, end=\" \")\n",
    "print()\n",
    "\n",
    "counter = 0\n",
    "for row in solutionGrid:\n",
    "    print(horizontal[counter], end= \" \")\n",
    "    for col in row:\n",
    "        print(col, end =\" \")\n",
    "    print()\n",
    "    counter+=1"
   ]
  },
  {
   "cell_type": "code",
   "execution_count": null,
   "metadata": {},
   "outputs": [],
   "source": []
  }
 ],
 "metadata": {
  "kernelspec": {
   "display_name": "base",
   "language": "python",
   "name": "python3"
  },
  "language_info": {
   "codemirror_mode": {
    "name": "ipython",
    "version": 3
   },
   "file_extension": ".py",
   "mimetype": "text/x-python",
   "name": "python",
   "nbconvert_exporter": "python",
   "pygments_lexer": "ipython3",
   "version": "3.11.8"
  }
 },
 "nbformat": 4,
 "nbformat_minor": 2
}
